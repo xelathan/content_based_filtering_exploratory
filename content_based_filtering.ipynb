{
  "nbformat": 4,
  "nbformat_minor": 0,
  "metadata": {
    "colab": {
      "provenance": []
    },
    "kernelspec": {
      "name": "python3",
      "display_name": "Python 3"
    },
    "language_info": {
      "name": "python"
    }
  },
  "cells": [
    {
      "cell_type": "code",
      "execution_count": 21,
      "metadata": {
        "id": "bvSG83bC4fIV"
      },
      "outputs": [],
      "source": [
        "import pandas as pd\n",
        "from sklearn.feature_extraction.text import TfidfVectorizer\n",
        "from sklearn.metrics.pairwise import cosine_similarity"
      ]
    },
    {
      "cell_type": "code",
      "source": [
        "data = {\n",
        "    \"movie_id\": [1, 2, 3, 4, 5, 6],\n",
        "    \"title\": [\"Inception\", \"Interstellar\", \"The Matrix\", \"The Dark Knight\", \"Memento\", \"Dunkirk\"],\n",
        "    \"genre\": [\"Sci-Fi Thriller\", \"Sci-Fi Drama\", \"Sci-Fi Action\", \"Action Crime Drama\", \"Mystery Thriller\", \"War Drama\"],\n",
        "    \"director\": [\"Christopher Nolan\", \"Christopher Nolan\", \"Lana Wachowski\", \"Christopher Nolan\", \"Christopher Nolan\", \"Christopher Nolan\"]\n",
        "}\n",
        "\n",
        "df = pd.DataFrame(data)\n",
        "df.head()"
      ],
      "metadata": {
        "colab": {
          "base_uri": "https://localhost:8080/",
          "height": 206
        },
        "id": "k-AOysK94p5V",
        "outputId": "30be547a-8c03-4bd6-cfa9-7ab50367868e"
      },
      "execution_count": 16,
      "outputs": [
        {
          "output_type": "execute_result",
          "data": {
            "text/plain": [
              "   movie_id            title               genre           director\n",
              "0         1        Inception     Sci-Fi Thriller  Christopher Nolan\n",
              "1         2     Interstellar        Sci-Fi Drama  Christopher Nolan\n",
              "2         3       The Matrix       Sci-Fi Action     Lana Wachowski\n",
              "3         4  The Dark Knight  Action Crime Drama  Christopher Nolan\n",
              "4         5          Memento    Mystery Thriller  Christopher Nolan"
            ],
            "text/html": [
              "\n",
              "  <div id=\"df-a9916e57-23c0-41fd-a183-e465d5e9f1df\" class=\"colab-df-container\">\n",
              "    <div>\n",
              "<style scoped>\n",
              "    .dataframe tbody tr th:only-of-type {\n",
              "        vertical-align: middle;\n",
              "    }\n",
              "\n",
              "    .dataframe tbody tr th {\n",
              "        vertical-align: top;\n",
              "    }\n",
              "\n",
              "    .dataframe thead th {\n",
              "        text-align: right;\n",
              "    }\n",
              "</style>\n",
              "<table border=\"1\" class=\"dataframe\">\n",
              "  <thead>\n",
              "    <tr style=\"text-align: right;\">\n",
              "      <th></th>\n",
              "      <th>movie_id</th>\n",
              "      <th>title</th>\n",
              "      <th>genre</th>\n",
              "      <th>director</th>\n",
              "    </tr>\n",
              "  </thead>\n",
              "  <tbody>\n",
              "    <tr>\n",
              "      <th>0</th>\n",
              "      <td>1</td>\n",
              "      <td>Inception</td>\n",
              "      <td>Sci-Fi Thriller</td>\n",
              "      <td>Christopher Nolan</td>\n",
              "    </tr>\n",
              "    <tr>\n",
              "      <th>1</th>\n",
              "      <td>2</td>\n",
              "      <td>Interstellar</td>\n",
              "      <td>Sci-Fi Drama</td>\n",
              "      <td>Christopher Nolan</td>\n",
              "    </tr>\n",
              "    <tr>\n",
              "      <th>2</th>\n",
              "      <td>3</td>\n",
              "      <td>The Matrix</td>\n",
              "      <td>Sci-Fi Action</td>\n",
              "      <td>Lana Wachowski</td>\n",
              "    </tr>\n",
              "    <tr>\n",
              "      <th>3</th>\n",
              "      <td>4</td>\n",
              "      <td>The Dark Knight</td>\n",
              "      <td>Action Crime Drama</td>\n",
              "      <td>Christopher Nolan</td>\n",
              "    </tr>\n",
              "    <tr>\n",
              "      <th>4</th>\n",
              "      <td>5</td>\n",
              "      <td>Memento</td>\n",
              "      <td>Mystery Thriller</td>\n",
              "      <td>Christopher Nolan</td>\n",
              "    </tr>\n",
              "  </tbody>\n",
              "</table>\n",
              "</div>\n",
              "    <div class=\"colab-df-buttons\">\n",
              "\n",
              "  <div class=\"colab-df-container\">\n",
              "    <button class=\"colab-df-convert\" onclick=\"convertToInteractive('df-a9916e57-23c0-41fd-a183-e465d5e9f1df')\"\n",
              "            title=\"Convert this dataframe to an interactive table.\"\n",
              "            style=\"display:none;\">\n",
              "\n",
              "  <svg xmlns=\"http://www.w3.org/2000/svg\" height=\"24px\" viewBox=\"0 -960 960 960\">\n",
              "    <path d=\"M120-120v-720h720v720H120Zm60-500h600v-160H180v160Zm220 220h160v-160H400v160Zm0 220h160v-160H400v160ZM180-400h160v-160H180v160Zm440 0h160v-160H620v160ZM180-180h160v-160H180v160Zm440 0h160v-160H620v160Z\"/>\n",
              "  </svg>\n",
              "    </button>\n",
              "\n",
              "  <style>\n",
              "    .colab-df-container {\n",
              "      display:flex;\n",
              "      gap: 12px;\n",
              "    }\n",
              "\n",
              "    .colab-df-convert {\n",
              "      background-color: #E8F0FE;\n",
              "      border: none;\n",
              "      border-radius: 50%;\n",
              "      cursor: pointer;\n",
              "      display: none;\n",
              "      fill: #1967D2;\n",
              "      height: 32px;\n",
              "      padding: 0 0 0 0;\n",
              "      width: 32px;\n",
              "    }\n",
              "\n",
              "    .colab-df-convert:hover {\n",
              "      background-color: #E2EBFA;\n",
              "      box-shadow: 0px 1px 2px rgba(60, 64, 67, 0.3), 0px 1px 3px 1px rgba(60, 64, 67, 0.15);\n",
              "      fill: #174EA6;\n",
              "    }\n",
              "\n",
              "    .colab-df-buttons div {\n",
              "      margin-bottom: 4px;\n",
              "    }\n",
              "\n",
              "    [theme=dark] .colab-df-convert {\n",
              "      background-color: #3B4455;\n",
              "      fill: #D2E3FC;\n",
              "    }\n",
              "\n",
              "    [theme=dark] .colab-df-convert:hover {\n",
              "      background-color: #434B5C;\n",
              "      box-shadow: 0px 1px 3px 1px rgba(0, 0, 0, 0.15);\n",
              "      filter: drop-shadow(0px 1px 2px rgba(0, 0, 0, 0.3));\n",
              "      fill: #FFFFFF;\n",
              "    }\n",
              "  </style>\n",
              "\n",
              "    <script>\n",
              "      const buttonEl =\n",
              "        document.querySelector('#df-a9916e57-23c0-41fd-a183-e465d5e9f1df button.colab-df-convert');\n",
              "      buttonEl.style.display =\n",
              "        google.colab.kernel.accessAllowed ? 'block' : 'none';\n",
              "\n",
              "      async function convertToInteractive(key) {\n",
              "        const element = document.querySelector('#df-a9916e57-23c0-41fd-a183-e465d5e9f1df');\n",
              "        const dataTable =\n",
              "          await google.colab.kernel.invokeFunction('convertToInteractive',\n",
              "                                                    [key], {});\n",
              "        if (!dataTable) return;\n",
              "\n",
              "        const docLinkHtml = 'Like what you see? Visit the ' +\n",
              "          '<a target=\"_blank\" href=https://colab.research.google.com/notebooks/data_table.ipynb>data table notebook</a>'\n",
              "          + ' to learn more about interactive tables.';\n",
              "        element.innerHTML = '';\n",
              "        dataTable['output_type'] = 'display_data';\n",
              "        await google.colab.output.renderOutput(dataTable, element);\n",
              "        const docLink = document.createElement('div');\n",
              "        docLink.innerHTML = docLinkHtml;\n",
              "        element.appendChild(docLink);\n",
              "      }\n",
              "    </script>\n",
              "  </div>\n",
              "\n",
              "\n",
              "<div id=\"df-15757a87-de55-40c7-bb27-0b495a33ad24\">\n",
              "  <button class=\"colab-df-quickchart\" onclick=\"quickchart('df-15757a87-de55-40c7-bb27-0b495a33ad24')\"\n",
              "            title=\"Suggest charts\"\n",
              "            style=\"display:none;\">\n",
              "\n",
              "<svg xmlns=\"http://www.w3.org/2000/svg\" height=\"24px\"viewBox=\"0 0 24 24\"\n",
              "     width=\"24px\">\n",
              "    <g>\n",
              "        <path d=\"M19 3H5c-1.1 0-2 .9-2 2v14c0 1.1.9 2 2 2h14c1.1 0 2-.9 2-2V5c0-1.1-.9-2-2-2zM9 17H7v-7h2v7zm4 0h-2V7h2v10zm4 0h-2v-4h2v4z\"/>\n",
              "    </g>\n",
              "</svg>\n",
              "  </button>\n",
              "\n",
              "<style>\n",
              "  .colab-df-quickchart {\n",
              "      --bg-color: #E8F0FE;\n",
              "      --fill-color: #1967D2;\n",
              "      --hover-bg-color: #E2EBFA;\n",
              "      --hover-fill-color: #174EA6;\n",
              "      --disabled-fill-color: #AAA;\n",
              "      --disabled-bg-color: #DDD;\n",
              "  }\n",
              "\n",
              "  [theme=dark] .colab-df-quickchart {\n",
              "      --bg-color: #3B4455;\n",
              "      --fill-color: #D2E3FC;\n",
              "      --hover-bg-color: #434B5C;\n",
              "      --hover-fill-color: #FFFFFF;\n",
              "      --disabled-bg-color: #3B4455;\n",
              "      --disabled-fill-color: #666;\n",
              "  }\n",
              "\n",
              "  .colab-df-quickchart {\n",
              "    background-color: var(--bg-color);\n",
              "    border: none;\n",
              "    border-radius: 50%;\n",
              "    cursor: pointer;\n",
              "    display: none;\n",
              "    fill: var(--fill-color);\n",
              "    height: 32px;\n",
              "    padding: 0;\n",
              "    width: 32px;\n",
              "  }\n",
              "\n",
              "  .colab-df-quickchart:hover {\n",
              "    background-color: var(--hover-bg-color);\n",
              "    box-shadow: 0 1px 2px rgba(60, 64, 67, 0.3), 0 1px 3px 1px rgba(60, 64, 67, 0.15);\n",
              "    fill: var(--button-hover-fill-color);\n",
              "  }\n",
              "\n",
              "  .colab-df-quickchart-complete:disabled,\n",
              "  .colab-df-quickchart-complete:disabled:hover {\n",
              "    background-color: var(--disabled-bg-color);\n",
              "    fill: var(--disabled-fill-color);\n",
              "    box-shadow: none;\n",
              "  }\n",
              "\n",
              "  .colab-df-spinner {\n",
              "    border: 2px solid var(--fill-color);\n",
              "    border-color: transparent;\n",
              "    border-bottom-color: var(--fill-color);\n",
              "    animation:\n",
              "      spin 1s steps(1) infinite;\n",
              "  }\n",
              "\n",
              "  @keyframes spin {\n",
              "    0% {\n",
              "      border-color: transparent;\n",
              "      border-bottom-color: var(--fill-color);\n",
              "      border-left-color: var(--fill-color);\n",
              "    }\n",
              "    20% {\n",
              "      border-color: transparent;\n",
              "      border-left-color: var(--fill-color);\n",
              "      border-top-color: var(--fill-color);\n",
              "    }\n",
              "    30% {\n",
              "      border-color: transparent;\n",
              "      border-left-color: var(--fill-color);\n",
              "      border-top-color: var(--fill-color);\n",
              "      border-right-color: var(--fill-color);\n",
              "    }\n",
              "    40% {\n",
              "      border-color: transparent;\n",
              "      border-right-color: var(--fill-color);\n",
              "      border-top-color: var(--fill-color);\n",
              "    }\n",
              "    60% {\n",
              "      border-color: transparent;\n",
              "      border-right-color: var(--fill-color);\n",
              "    }\n",
              "    80% {\n",
              "      border-color: transparent;\n",
              "      border-right-color: var(--fill-color);\n",
              "      border-bottom-color: var(--fill-color);\n",
              "    }\n",
              "    90% {\n",
              "      border-color: transparent;\n",
              "      border-bottom-color: var(--fill-color);\n",
              "    }\n",
              "  }\n",
              "</style>\n",
              "\n",
              "  <script>\n",
              "    async function quickchart(key) {\n",
              "      const quickchartButtonEl =\n",
              "        document.querySelector('#' + key + ' button');\n",
              "      quickchartButtonEl.disabled = true;  // To prevent multiple clicks.\n",
              "      quickchartButtonEl.classList.add('colab-df-spinner');\n",
              "      try {\n",
              "        const charts = await google.colab.kernel.invokeFunction(\n",
              "            'suggestCharts', [key], {});\n",
              "      } catch (error) {\n",
              "        console.error('Error during call to suggestCharts:', error);\n",
              "      }\n",
              "      quickchartButtonEl.classList.remove('colab-df-spinner');\n",
              "      quickchartButtonEl.classList.add('colab-df-quickchart-complete');\n",
              "    }\n",
              "    (() => {\n",
              "      let quickchartButtonEl =\n",
              "        document.querySelector('#df-15757a87-de55-40c7-bb27-0b495a33ad24 button');\n",
              "      quickchartButtonEl.style.display =\n",
              "        google.colab.kernel.accessAllowed ? 'block' : 'none';\n",
              "    })();\n",
              "  </script>\n",
              "</div>\n",
              "\n",
              "    </div>\n",
              "  </div>\n"
            ],
            "application/vnd.google.colaboratory.intrinsic+json": {
              "type": "dataframe",
              "variable_name": "df",
              "summary": "{\n  \"name\": \"df\",\n  \"rows\": 6,\n  \"fields\": [\n    {\n      \"column\": \"movie_id\",\n      \"properties\": {\n        \"dtype\": \"number\",\n        \"std\": 1,\n        \"min\": 1,\n        \"max\": 6,\n        \"num_unique_values\": 6,\n        \"samples\": [\n          1,\n          2,\n          6\n        ],\n        \"semantic_type\": \"\",\n        \"description\": \"\"\n      }\n    },\n    {\n      \"column\": \"title\",\n      \"properties\": {\n        \"dtype\": \"string\",\n        \"num_unique_values\": 6,\n        \"samples\": [\n          \"Inception\",\n          \"Interstellar\",\n          \"Dunkirk\"\n        ],\n        \"semantic_type\": \"\",\n        \"description\": \"\"\n      }\n    },\n    {\n      \"column\": \"genre\",\n      \"properties\": {\n        \"dtype\": \"string\",\n        \"num_unique_values\": 6,\n        \"samples\": [\n          \"Sci-Fi Thriller\",\n          \"Sci-Fi Drama\",\n          \"War Drama\"\n        ],\n        \"semantic_type\": \"\",\n        \"description\": \"\"\n      }\n    },\n    {\n      \"column\": \"director\",\n      \"properties\": {\n        \"dtype\": \"category\",\n        \"num_unique_values\": 2,\n        \"samples\": [\n          \"Lana Wachowski\",\n          \"Christopher Nolan\"\n        ],\n        \"semantic_type\": \"\",\n        \"description\": \"\"\n      }\n    }\n  ]\n}"
            }
          },
          "metadata": {},
          "execution_count": 16
        }
      ]
    },
    {
      "cell_type": "markdown",
      "source": [
        "# Cosine Similarity as a measure of distance\n",
        "Larger values indicate more similarity"
      ],
      "metadata": {
        "id": "qEX2K51-BbNu"
      }
    },
    {
      "cell_type": "code",
      "source": [
        "tfidf_genre = TfidfVectorizer(stop_words=\"english\")\n",
        "genre_matrix = tfidf_genre.fit_transform(df[\"genre\"])\n",
        "genre_matrix.shape"
      ],
      "metadata": {
        "colab": {
          "base_uri": "https://localhost:8080/"
        },
        "id": "zL9eP6QY4sXH",
        "outputId": "0b1f6387-4523-4dd6-b3df-23bc9da6a2cc"
      },
      "execution_count": 17,
      "outputs": [
        {
          "output_type": "execute_result",
          "data": {
            "text/plain": [
              "(6, 8)"
            ]
          },
          "metadata": {},
          "execution_count": 17
        }
      ]
    },
    {
      "cell_type": "code",
      "source": [
        "tfidf_director = TfidfVectorizer(stop_words=\"english\")\n",
        "director_matrix = tfidf_director.fit_transform(df[\"director\"])\n",
        "director_matrix.shape"
      ],
      "metadata": {
        "colab": {
          "base_uri": "https://localhost:8080/"
        },
        "id": "G1HVoGoG6MX7",
        "outputId": "e00f96dd-4d07-405b-9405-89e3d2eb3c8a"
      },
      "execution_count": 18,
      "outputs": [
        {
          "output_type": "execute_result",
          "data": {
            "text/plain": [
              "(6, 4)"
            ]
          },
          "metadata": {},
          "execution_count": 18
        }
      ]
    },
    {
      "cell_type": "code",
      "source": [
        "genre_sim = cosine_similarity(genre_matrix, genre_matrix)\n",
        "director_sim = cosine_similarity(director_matrix, director_matrix)\n",
        "\n",
        "print(\"Genre Similarity Matrix:\\n\", pd.DataFrame(genre_sim, index=df[\"title\"], columns=df[\"title\"]))\n",
        "print(\"Director Similarity Matrix:\\n\", pd.DataFrame(director_sim, index=df[\"title\"], columns=df[\"title\"]))"
      ],
      "metadata": {
        "colab": {
          "base_uri": "https://localhost:8080/"
        },
        "id": "GBpkmPQ26RlC",
        "outputId": "7ded18c3-b515-48f9-a8a0-b0c42f652952"
      },
      "execution_count": 22,
      "outputs": [
        {
          "output_type": "stream",
          "name": "stdout",
          "text": [
            "Genre Similarity Matrix:\n",
            " title            Inception  Interstellar  The Matrix  The Dark Knight  \\\n",
            "title                                                                   \n",
            "Inception         1.000000      0.625954    0.587727         0.000000   \n",
            "Interstellar      0.625954      1.000000    0.625954         0.272489   \n",
            "The Matrix        0.587727      0.625954    1.000000         0.358939   \n",
            "The Dark Knight   0.000000      0.272489    0.358939         1.000000   \n",
            "Memento           0.407137      0.000000    0.000000         0.000000   \n",
            "Dunkirk           0.000000      0.328635    0.000000         0.268648   \n",
            "\n",
            "title             Memento   Dunkirk  \n",
            "title                                \n",
            "Inception        0.407137  0.000000  \n",
            "Interstellar     0.000000  0.328635  \n",
            "The Matrix       0.000000  0.000000  \n",
            "The Dark Knight  0.000000  0.268648  \n",
            "Memento          1.000000  0.000000  \n",
            "Dunkirk          0.000000  1.000000  \n",
            "Director Similarity Matrix:\n",
            " title            Inception  Interstellar  The Matrix  The Dark Knight  \\\n",
            "title                                                                   \n",
            "Inception              1.0           1.0         0.0              1.0   \n",
            "Interstellar           1.0           1.0         0.0              1.0   \n",
            "The Matrix             0.0           0.0         1.0              0.0   \n",
            "The Dark Knight        1.0           1.0         0.0              1.0   \n",
            "Memento                1.0           1.0         0.0              1.0   \n",
            "Dunkirk                1.0           1.0         0.0              1.0   \n",
            "\n",
            "title            Memento  Dunkirk  \n",
            "title                              \n",
            "Inception            1.0      1.0  \n",
            "Interstellar         1.0      1.0  \n",
            "The Matrix           0.0      0.0  \n",
            "The Dark Knight      1.0      1.0  \n",
            "Memento              1.0      1.0  \n",
            "Dunkirk              1.0      1.0  \n"
          ]
        }
      ]
    },
    {
      "cell_type": "code",
      "source": [
        "genre_weight = 0.7\n",
        "director_weight = 0.3\n",
        "\n",
        "combined_sim = (genre_weight * genre_sim) + (director_weight * director_sim)"
      ],
      "metadata": {
        "id": "G6LBKGuw9LzK"
      },
      "execution_count": 33,
      "outputs": []
    },
    {
      "cell_type": "code",
      "source": [
        "def recommend_movies(movie_title, df, combined_sim, top_n=3):\n",
        "    # Find index of given movie\n",
        "    idx = df[df[\"title\"] == movie_title].index[0]\n",
        "\n",
        "    # Get similarity scores and sort them\n",
        "    sim_scores = list(enumerate(combined_sim[idx]))\n",
        "    sim_scores = sorted(sim_scores, key=lambda x: x[1], reverse=True)\n",
        "\n",
        "\n",
        "    # Get top N similar movies (excluding itself)\n",
        "    top_movies = [df.iloc[i[0]][\"title\"] for i in sim_scores[1:top_n+1]]\n",
        "    return top_movies\n",
        "\n",
        "# Example usage\n",
        "print(recommend_movies(\"Inception\", df, combined_sim))"
      ],
      "metadata": {
        "colab": {
          "base_uri": "https://localhost:8080/"
        },
        "id": "COCPlEVQ9QoH",
        "outputId": "8981d18b-5e8a-484c-a9dc-10374ad7b3f9"
      },
      "execution_count": 39,
      "outputs": [
        {
          "output_type": "stream",
          "name": "stdout",
          "text": [
            "['Interstellar', 'Memento', 'The Matrix']\n"
          ]
        }
      ]
    },
    {
      "cell_type": "markdown",
      "source": [
        "# Euclidean Distance as a measure of similarity\n",
        "smaller distance is more similar\n",
        "(for this example it was converted to similarity score (larger more similar))"
      ],
      "metadata": {
        "id": "GOqruYwrBS8Z"
      }
    },
    {
      "cell_type": "code",
      "source": [
        "from sklearn.preprocessing import normalize\n",
        "from sklearn.metrics.pairwise import euclidean_distances"
      ],
      "metadata": {
        "id": "7_QVADGFBiHr"
      },
      "execution_count": 72,
      "outputs": []
    },
    {
      "cell_type": "code",
      "source": [
        "tfidf_genre = TfidfVectorizer(stop_words=\"english\")\n",
        "genre_matrix = tfidf_genre.fit_transform(df[\"genre\"]).toarray()  # Convert sparse matrix to array\n",
        "\n",
        "# Vectorize director\n",
        "tfidf_director = TfidfVectorizer(stop_words=\"english\")\n",
        "director_matrix = tfidf_director.fit_transform(df[\"director\"]).toarray()"
      ],
      "metadata": {
        "id": "ysmDxf3wBPNP"
      },
      "execution_count": 73,
      "outputs": []
    },
    {
      "cell_type": "code",
      "source": [
        "genre_matrix_norm = normalize(genre_matrix)\n",
        "director_matrix_norm = normalize(director_matrix)\n",
        "\n",
        "genre_dist = euclidean_distances(genre_matrix_norm, genre_matrix_norm)\n",
        "director_dist = euclidean_distances(director_matrix_norm, director_matrix_norm)\n",
        "\n",
        "genre_sim = 1 / (1 + genre_dist)\n",
        "director_sim = 1 / (1 + director_dist)\n",
        "\n",
        "print(\"Genre Similarity:\\n\", pd.DataFrame(genre_sim, index=df[\"title\"], columns=df[\"title\"]))\n",
        "print(\"Director Similarity:\\n\", pd.DataFrame(director_sim, index=df[\"title\"], columns=df[\"title\"]))"
      ],
      "metadata": {
        "colab": {
          "base_uri": "https://localhost:8080/"
        },
        "id": "uROYgnE5BjA3",
        "outputId": "f28b2bc7-7efe-4f9a-ae42-c0482f8a22c4"
      },
      "execution_count": 92,
      "outputs": [
        {
          "output_type": "stream",
          "name": "stdout",
          "text": [
            "(6, 8)\n",
            "Genre Similarity:\n",
            " title            Inception  Interstellar  The Matrix  The Dark Knight  \\\n",
            "title                                                                   \n",
            "Inception         1.000000      0.536215    0.524097         0.414214   \n",
            "Interstellar      0.536215      1.000000    0.536215         0.453259   \n",
            "The Matrix        0.524097      0.536215    1.000000         0.468975   \n",
            "The Dark Knight   0.414214      0.453259    0.468975         1.000000   \n",
            "Memento           0.478718      0.414214    0.414214         0.414214   \n",
            "Dunkirk           0.414214      0.463228    0.414214         0.452607   \n",
            "\n",
            "title             Memento   Dunkirk  \n",
            "title                                \n",
            "Inception        0.478718  0.414214  \n",
            "Interstellar     0.414214  0.463228  \n",
            "The Matrix       0.414214  0.414214  \n",
            "The Dark Knight  0.414214  0.452607  \n",
            "Memento          1.000000  0.414214  \n",
            "Dunkirk          0.414214  1.000000  \n",
            "Director Similarity:\n",
            " title            Inception  Interstellar  The Matrix  The Dark Knight  \\\n",
            "title                                                                   \n",
            "Inception         1.000000      1.000000    0.414214         1.000000   \n",
            "Interstellar      1.000000      1.000000    0.414214         1.000000   \n",
            "The Matrix        0.414214      0.414214    1.000000         0.414214   \n",
            "The Dark Knight   1.000000      1.000000    0.414214         1.000000   \n",
            "Memento           1.000000      1.000000    0.414214         1.000000   \n",
            "Dunkirk           1.000000      1.000000    0.414214         1.000000   \n",
            "\n",
            "title             Memento   Dunkirk  \n",
            "title                                \n",
            "Inception        1.000000  1.000000  \n",
            "Interstellar     1.000000  1.000000  \n",
            "The Matrix       0.414214  0.414214  \n",
            "The Dark Knight  1.000000  1.000000  \n",
            "Memento          1.000000  1.000000  \n",
            "Dunkirk          1.000000  1.000000  \n"
          ]
        }
      ]
    },
    {
      "cell_type": "code",
      "source": [
        "genre_weight = 0.7\n",
        "director_weight = 0.3\n",
        "\n",
        "combined_sim = (genre_weight * genre_sim) + (director_weight * director_sim)"
      ],
      "metadata": {
        "id": "MSBypIwbCUXD"
      },
      "execution_count": 77,
      "outputs": []
    },
    {
      "cell_type": "code",
      "source": [
        "print(recommend_movies(\"Inception\", df, combined_sim))"
      ],
      "metadata": {
        "colab": {
          "base_uri": "https://localhost:8080/"
        },
        "id": "8HYFYEkUCWfG",
        "outputId": "c63c638b-1d27-4b25-8927-a01365eeb1ef"
      },
      "execution_count": 78,
      "outputs": [
        {
          "output_type": "stream",
          "name": "stdout",
          "text": [
            "['Interstellar', 'Memento', 'The Dark Knight']\n"
          ]
        }
      ]
    },
    {
      "cell_type": "markdown",
      "source": [
        "# Dot Product as a measure"
      ],
      "metadata": {
        "id": "TndCGCB9CtE0"
      }
    },
    {
      "cell_type": "code",
      "source": [
        "import numpy as np\n",
        "genre_sim = np.dot(genre_matrix, genre_matrix.T)  # Genre similarity using dot product\n",
        "director_sim = np.dot(director_matrix, director_matrix.T)  # Director similarity using dot product\n",
        "\n",
        "print(\"Genre Similarity Matrix:\\n\", pd.DataFrame(genre_sim, index=df[\"title\"], columns=df[\"title\"]))\n",
        "print(\"Director Similarity Matrix:\\n\", pd.DataFrame(director_sim, index=df[\"title\"], columns=df[\"title\"]))\n",
        "\n",
        "np.dot(genre_matrix[0], genre_matrix[1])"
      ],
      "metadata": {
        "colab": {
          "base_uri": "https://localhost:8080/"
        },
        "id": "2UhAWZG-CrXH",
        "outputId": "67913a8f-1d56-4fea-c208-fe96f6ead0bb"
      },
      "execution_count": 71,
      "outputs": [
        {
          "output_type": "stream",
          "name": "stdout",
          "text": [
            "Genre Similarity Matrix:\n",
            " title            Inception  Interstellar  The Matrix  The Dark Knight  \\\n",
            "title                                                                   \n",
            "Inception         1.000000      0.625954    0.587727         0.000000   \n",
            "Interstellar      0.625954      1.000000    0.625954         0.272489   \n",
            "The Matrix        0.587727      0.625954    1.000000         0.358939   \n",
            "The Dark Knight   0.000000      0.272489    0.358939         1.000000   \n",
            "Memento           0.407137      0.000000    0.000000         0.000000   \n",
            "Dunkirk           0.000000      0.328635    0.000000         0.268648   \n",
            "\n",
            "title             Memento   Dunkirk  \n",
            "title                                \n",
            "Inception        0.407137  0.000000  \n",
            "Interstellar     0.000000  0.328635  \n",
            "The Matrix       0.000000  0.000000  \n",
            "The Dark Knight  0.000000  0.268648  \n",
            "Memento          1.000000  0.000000  \n",
            "Dunkirk          0.000000  1.000000  \n",
            "Director Similarity Matrix:\n",
            " title            Inception  Interstellar  The Matrix  The Dark Knight  \\\n",
            "title                                                                   \n",
            "Inception              1.0           1.0         0.0              1.0   \n",
            "Interstellar           1.0           1.0         0.0              1.0   \n",
            "The Matrix             0.0           0.0         1.0              0.0   \n",
            "The Dark Knight        1.0           1.0         0.0              1.0   \n",
            "Memento                1.0           1.0         0.0              1.0   \n",
            "Dunkirk                1.0           1.0         0.0              1.0   \n",
            "\n",
            "title            Memento  Dunkirk  \n",
            "title                              \n",
            "Inception            1.0      1.0  \n",
            "Interstellar         1.0      1.0  \n",
            "The Matrix           0.0      0.0  \n",
            "The Dark Knight      1.0      1.0  \n",
            "Memento              1.0      1.0  \n",
            "Dunkirk              1.0      1.0  \n"
          ]
        },
        {
          "output_type": "execute_result",
          "data": {
            "text/plain": [
              "0.6259538619624666"
            ]
          },
          "metadata": {},
          "execution_count": 71
        }
      ]
    },
    {
      "cell_type": "code",
      "source": [
        "genre_weight = 0.7\n",
        "director_weight = 0.3\n",
        "\n",
        "# Compute final similarity score\n",
        "combined_sim = (genre_weight * genre_sim) + (director_weight * director_sim)"
      ],
      "metadata": {
        "id": "sLxCzymCDSeb"
      },
      "execution_count": 60,
      "outputs": []
    },
    {
      "cell_type": "code",
      "source": [
        "print(recommend_movies(\"Inception\", df, combined_sim))"
      ],
      "metadata": {
        "colab": {
          "base_uri": "https://localhost:8080/"
        },
        "id": "7yNuBEH2DUoC",
        "outputId": "dea04715-4a88-4515-d764-51217fd752e1"
      },
      "execution_count": 61,
      "outputs": [
        {
          "output_type": "stream",
          "name": "stdout",
          "text": [
            "['Interstellar', 'Memento', 'The Matrix']\n"
          ]
        }
      ]
    }
  ]
}